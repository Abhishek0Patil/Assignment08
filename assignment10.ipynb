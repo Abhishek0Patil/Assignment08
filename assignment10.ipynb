{
 "cells": [
  {
   "cell_type": "markdown",
   "id": "b26f11f4-62eb-4eab-ab5c-a8a11cb0ae9c",
   "metadata": {},
   "source": [
    "In Python, an exception is an unexpected event or error that occurs during the execution of a program.Syntax errors, on the other hand, are different from exceptions. They occur when the Python interpreter encounters code that doesn't follow the correct syntax rules of the language. "
   ]
  },
  {
   "cell_type": "markdown",
   "id": "cea6a1ab-76e1-424b-8ddb-714fe3b3c777",
   "metadata": {},
   "source": [
    "When an exception occurs, the normal flow of the program is disrupted, and if not handled properly, it can lead to the program's termination."
   ]
  },
  {
   "cell_type": "code",
   "execution_count": 3,
   "id": "7d46279f-056c-417b-9307-beffa970a718",
   "metadata": {},
   "outputs": [
    {
     "ename": "ZeroDivisionError",
     "evalue": "division by zero",
     "output_type": "error",
     "traceback": [
      "\u001b[0;31m---------------------------------------------------------------------------\u001b[0m",
      "\u001b[0;31mZeroDivisionError\u001b[0m                         Traceback (most recent call last)",
      "Cell \u001b[0;32mIn[3], line 2\u001b[0m\n\u001b[1;32m      1\u001b[0m a,b\u001b[38;5;241m=\u001b[39m\u001b[38;5;241m10\u001b[39m,\u001b[38;5;241m0\u001b[39m\n\u001b[0;32m----> 2\u001b[0m c\u001b[38;5;241m=\u001b[39m\u001b[43ma\u001b[49m\u001b[38;5;241;43m/\u001b[39;49m\u001b[43mb\u001b[49m\n\u001b[1;32m      3\u001b[0m \u001b[38;5;28mprint\u001b[39m(c)\n\u001b[1;32m      4\u001b[0m \u001b[38;5;28mprint\u001b[39m(\u001b[38;5;124m\"\u001b[39m\u001b[38;5;124mprogram is executed\u001b[39m\u001b[38;5;124m\"\u001b[39m)\n",
      "\u001b[0;31mZeroDivisionError\u001b[0m: division by zero"
     ]
    }
   ],
   "source": [
    "a,b=10,0\n",
    "c=a/b\n",
    "print(c)\n",
    "print(\"program is executed\")"
   ]
  },
  {
   "cell_type": "markdown",
   "id": "4c58a5bd-98f8-4889-8a7f-13af205e50a7",
   "metadata": {},
   "source": [
    "try and catch block is used to except and handle exception"
   ]
  },
  {
   "cell_type": "code",
   "execution_count": 5,
   "id": "a7af86de-1caf-46bc-9b2f-983c85005eed",
   "metadata": {},
   "outputs": [],
   "source": [
    "def sum(a,b) :\n",
    "    try :\n",
    "        c=a/b\n",
    "        print(c)\n",
    "    except Exception as e :\n",
    "        print(\"divide by zero error\")"
   ]
  },
  {
   "cell_type": "code",
   "execution_count": 6,
   "id": "44d6c793-6ab7-415c-aeec-dd11a703d26f",
   "metadata": {},
   "outputs": [
    {
     "name": "stdout",
     "output_type": "stream",
     "text": [
      "2.0\n"
     ]
    }
   ],
   "source": [
    "sum(10,5)"
   ]
  },
  {
   "cell_type": "code",
   "execution_count": 7,
   "id": "a3ce8966-4d69-417d-9a1a-a0b95b64ce5b",
   "metadata": {},
   "outputs": [
    {
     "name": "stdout",
     "output_type": "stream",
     "text": [
      "divide by zero error\n"
     ]
    }
   ],
   "source": [
    "sum(10,0)"
   ]
  },
  {
   "cell_type": "markdown",
   "id": "7145f404-e3ef-4598-8af3-00a5318d13fb",
   "metadata": {},
   "source": [
    "else block will be executed when try is executed without any error"
   ]
  },
  {
   "cell_type": "code",
   "execution_count": 8,
   "id": "c7b20595-43d6-4653-af63-a4063ac41cf3",
   "metadata": {},
   "outputs": [],
   "source": [
    "def sum(a,b) :\n",
    "    try :\n",
    "        c=a/b\n",
    "        print(c)\n",
    "    except Exception as e :\n",
    "        print(\"divide by zero error\")\n",
    "    else :\n",
    "        print(\"the try block is executed without any error \")"
   ]
  },
  {
   "cell_type": "code",
   "execution_count": 9,
   "id": "98c74d33-915e-4c42-8d09-ff6d67c38215",
   "metadata": {},
   "outputs": [
    {
     "name": "stdout",
     "output_type": "stream",
     "text": [
      "5.0\n",
      "the try block is executed without any error \n"
     ]
    }
   ],
   "source": [
    "sum(10,2)"
   ]
  },
  {
   "cell_type": "code",
   "execution_count": 10,
   "id": "8bc8277d-b0e5-4ee0-b042-e7fe7fe7cc5e",
   "metadata": {},
   "outputs": [
    {
     "name": "stdout",
     "output_type": "stream",
     "text": [
      "divide by zero error\n"
     ]
    }
   ],
   "source": [
    "sum(10,0)"
   ]
  },
  {
   "cell_type": "markdown",
   "id": "084e7605-f0f2-40a3-9972-290c64281b23",
   "metadata": {},
   "source": [
    "finally will be executed at any condition "
   ]
  },
  {
   "cell_type": "code",
   "execution_count": 11,
   "id": "d292f0a0-4b95-4b8e-973e-9f370c408742",
   "metadata": {},
   "outputs": [],
   "source": [
    "def sum(a,b) :\n",
    "    try :\n",
    "        c=a/b\n",
    "        print(c)\n",
    "    except Exception as e :\n",
    "        print(\"divide by zero error\")\n",
    "    finally :\n",
    "        print(\"finally block is executed \")"
   ]
  },
  {
   "cell_type": "code",
   "execution_count": 12,
   "id": "3d8e69ec-14a7-4cec-966b-98a5927eecb8",
   "metadata": {},
   "outputs": [
    {
     "name": "stdout",
     "output_type": "stream",
     "text": [
      "5.0\n",
      "finally block is executed \n"
     ]
    }
   ],
   "source": [
    "sum(10,2)"
   ]
  },
  {
   "cell_type": "code",
   "execution_count": 13,
   "id": "0f19d0b1-9241-43a6-a983-c0291ca70f79",
   "metadata": {},
   "outputs": [
    {
     "name": "stdout",
     "output_type": "stream",
     "text": [
      "divide by zero error\n",
      "finally block is executed \n"
     ]
    }
   ],
   "source": [
    "sum(10,0)"
   ]
  },
  {
   "cell_type": "markdown",
   "id": "4c4e038c-6c09-4358-9d96-a47c57653cbd",
   "metadata": {},
   "source": [
    "The raise statement in Python is used to manually raise exceptions. "
   ]
  },
  {
   "cell_type": "code",
   "execution_count": 21,
   "id": "8f11411b-d014-4726-abd2-72b84b470ad8",
   "metadata": {},
   "outputs": [
    {
     "name": "stdin",
     "output_type": "stream",
     "text": [
      "Enter a positive number:  -28\n"
     ]
    },
    {
     "name": "stdout",
     "output_type": "stream",
     "text": [
      "Error: Number must be positive\n"
     ]
    }
   ],
   "source": [
    "def check_positive_number(number):\n",
    "    if number <= 0:\n",
    "        raise ValueError(\"Number must be positive\")\n",
    "\n",
    "try:\n",
    "    user_input = int(input(\"Enter a positive number: \"))\n",
    "    check_positive_number(user_input)\n",
    "    print(\"You entered:\", user_input)\n",
    "except ValueError as ve:\n",
    "    print(\"Error:\", ve)"
   ]
  },
  {
   "cell_type": "markdown",
   "id": "72acf9a5-c41c-4d19-9ae4-32a2e39f4161",
   "metadata": {},
   "source": [
    "Custom exceptions, also known as user-defined exceptions, are exceptions that you define yourself in Python by creating a new class that inherits from one of the built-in exception classes. "
   ]
  },
  {
   "cell_type": "code",
   "execution_count": 16,
   "id": "1e66fbf4-b5fd-4eb2-afd9-943670a385e1",
   "metadata": {},
   "outputs": [],
   "source": [
    "class validate_age(Exception) :\n",
    "    \n",
    "    def __init__(self,msg) :\n",
    "        self.msg=msg\n",
    "     "
   ]
  },
  {
   "cell_type": "code",
   "execution_count": 17,
   "id": "3536b277-8bf7-430a-b927-3ec69624e404",
   "metadata": {},
   "outputs": [],
   "source": [
    "def validateage(age) :\n",
    "    if age < 0:\n",
    "        raise validate_age(\"entered age is nagative \")\n",
    "    elif age > 200 :\n",
    "        raise validate_age(\"entered age is very very high \")\n",
    "    else :\n",
    "        print(\"age is valid \")"
   ]
  },
  {
   "cell_type": "code",
   "execution_count": 18,
   "id": "3ff23b81-68af-4c59-8252-75022b01dd4c",
   "metadata": {},
   "outputs": [
    {
     "name": "stdin",
     "output_type": "stream",
     "text": [
      "enter your age 35\n"
     ]
    },
    {
     "name": "stdout",
     "output_type": "stream",
     "text": [
      "age is valid \n"
     ]
    }
   ],
   "source": [
    "try :\n",
    "    age=int(input(\"enter your age\"))\n",
    "    validateage(age)\n",
    "except validate_age as e :\n",
    "    print(e)"
   ]
  },
  {
   "cell_type": "code",
   "execution_count": 1,
   "id": "7ecbf06f-48b5-43ae-9127-e60ebc6dc547",
   "metadata": {},
   "outputs": [],
   "source": [
    "class valid_age(Exception) :\n",
    "    def __init__(self,msg):\n",
    "        self.msg=msg"
   ]
  },
  {
   "cell_type": "code",
   "execution_count": 3,
   "id": "a747493d-b6f3-4699-bae3-8408ffe14c41",
   "metadata": {},
   "outputs": [],
   "source": [
    "def license(age) :\n",
    "    if age<0 :\n",
    "        raise valid_age(\"invalid age\")\n",
    "    elif age>=0 and age<18 :\n",
    "        raise valid_age(\"person is not eligible for DRL\")\n",
    "    else :\n",
    "        print(\"person is eligible for DRL \")\n",
    "        "
   ]
  },
  {
   "cell_type": "code",
   "execution_count": 4,
   "id": "8691f542-b11c-4aea-9161-e19ba74d69ad",
   "metadata": {},
   "outputs": [
    {
     "name": "stdin",
     "output_type": "stream",
     "text": [
      "enter the age  35\n"
     ]
    },
    {
     "name": "stdout",
     "output_type": "stream",
     "text": [
      "person is eligible for DRL \n"
     ]
    }
   ],
   "source": [
    "try :\n",
    "    age=int(input(\"enter the age \"))\n",
    "    license(age)\n",
    "except valid_age as e :\n",
    "    print(e)"
   ]
  },
  {
   "cell_type": "code",
   "execution_count": null,
   "id": "f13576d5-7bbf-4489-b767-3a92b49c28b1",
   "metadata": {},
   "outputs": [],
   "source": []
  },
  {
   "cell_type": "code",
   "execution_count": null,
   "id": "31ebccfa-7e16-4df9-8d38-9371f6436094",
   "metadata": {},
   "outputs": [],
   "source": []
  }
 ],
 "metadata": {
  "kernelspec": {
   "display_name": "Python 3 (ipykernel)",
   "language": "python",
   "name": "python3"
  },
  "language_info": {
   "codemirror_mode": {
    "name": "ipython",
    "version": 3
   },
   "file_extension": ".py",
   "mimetype": "text/x-python",
   "name": "python",
   "nbconvert_exporter": "python",
   "pygments_lexer": "ipython3",
   "version": "3.10.8"
  }
 },
 "nbformat": 4,
 "nbformat_minor": 5
}
